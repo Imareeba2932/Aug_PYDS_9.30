{
 "cells": [
  {
   "cell_type": "markdown",
   "metadata": {},
   "source": [
    "INDEXING"
   ]
  },
  {
   "cell_type": "code",
   "execution_count": 1,
   "metadata": {},
   "outputs": [
    {
     "name": "stdout",
     "output_type": "stream",
     "text": [
      "brave\n"
     ]
    }
   ],
   "source": [
    "apps=['chrome','firefox','safari','edge','opera','brave','vivaldi','tor','duckduckgo','epic','chromium','chromium edge','chromium brave','chromium vivaldi','chromium opera','chromium tor','chromium duckduckgo','chromium epic','chromium brave','chromium edge','chromium vivaldi','chromium opera','chromium tor','chromium duckduckgo','chromium epic','chromium brave','chromium edge','chromium vivaldi','chromium opera','chromium tor','chromium duckduckgo','chromium epic','chromium brave','chromium edge','chromium vivaldi','chromium opera','chromium tor','chromium duckduckgo','chromium epic','chromium brave','chromium edge','chromium vivaldi','chromium opera','chromium tor','chromium duckduckgo','chromium epic','chromium brave','chromium edge','chromium vivaldi','chromium opera','chromium tor','chromium duckduckgo','chromium epic','chromium brave','chromium edge','chromium vivaldi','chromium opera','chromium tor','chromium duckduckgo','chromium epic','chromium brave','chromium edge','chromium vivaldi','chromium opera','chromium tor','chromium duckduckgo','chromium epic','chromium brave','chromium edge','chromium vivaldi','chromium opera','chromium tor','chromium duckduckgo','chromium epic']\n",
    "print(apps[5])"
   ]
  },
  {
   "cell_type": "code",
   "execution_count": 2,
   "metadata": {},
   "outputs": [
    {
     "name": "stdout",
     "output_type": "stream",
     "text": [
      "['edge', 'opera', 'brave', 'vivaldi']\n"
     ]
    }
   ],
   "source": [
    "print(apps[3:7])"
   ]
  },
  {
   "cell_type": "code",
   "execution_count": 3,
   "metadata": {},
   "outputs": [
    {
     "name": "stdout",
     "output_type": "stream",
     "text": [
      "['chrome', 'firefox', 'safari', 'edge', 'opera', 'brave', 'vivaldi', 'Temple run', 'duckduckgo', 'epic', 'chromium', 'chromium edge', 'chromium brave', 'chromium vivaldi', 'chromium opera', 'chromium tor', 'chromium duckduckgo', 'chromium epic', 'chromium brave', 'chromium edge', 'chromium vivaldi', 'chromium opera', 'chromium tor', 'chromium duckduckgo', 'chromium epic', 'chromium brave', 'chromium edge', 'chromium vivaldi', 'chromium opera', 'chromium tor', 'chromium duckduckgo', 'chromium epic', 'chromium brave', 'chromium edge', 'chromium vivaldi', 'chromium opera', 'chromium tor', 'chromium duckduckgo', 'chromium epic', 'chromium brave', 'chromium edge', 'chromium vivaldi', 'chromium opera', 'chromium tor', 'chromium duckduckgo', 'chromium epic', 'chromium brave', 'chromium edge', 'chromium vivaldi', 'chromium opera', 'chromium tor', 'chromium duckduckgo', 'chromium epic', 'chromium brave', 'chromium edge', 'chromium vivaldi', 'chromium opera', 'chromium tor', 'chromium duckduckgo', 'chromium epic', 'chromium brave', 'chromium edge', 'chromium vivaldi', 'chromium opera', 'chromium tor', 'chromium duckduckgo', 'chromium epic', 'chromium brave', 'chromium edge', 'chromium vivaldi', 'chromium opera', 'chromium tor', 'chromium duckduckgo', 'chromium epic']\n"
     ]
    }
   ],
   "source": [
    "apps[7]=\"Temple run\"\n",
    "print(apps)"
   ]
  },
  {
   "cell_type": "code",
   "execution_count": 4,
   "metadata": {},
   "outputs": [
    {
     "name": "stdout",
     "output_type": "stream",
     "text": [
      "74\n"
     ]
    }
   ],
   "source": [
    "print(len(apps))"
   ]
  },
  {
   "cell_type": "code",
   "execution_count": 5,
   "metadata": {},
   "outputs": [
    {
     "name": "stdout",
     "output_type": "stream",
     "text": [
      "['chrome', 'firefox', 'safari', 'edge', 'opera', 'brave', 'vivaldi', 'tor', 'duckduckgo']\n"
     ]
    }
   ],
   "source": [
    "apps=['chrome','firefox','safari','edge','opera','brave','vivaldi','tor','duckduckgo']\n",
    "print(apps)"
   ]
  },
  {
   "cell_type": "code",
   "execution_count": 6,
   "metadata": {},
   "outputs": [
    {
     "name": "stdout",
     "output_type": "stream",
     "text": [
      "['chrome', 'firefox', 'safari', 'edge', 'opera', 'brave', 'vivaldi', 'tor', 'duckduckgo', 'gallery']\n"
     ]
    }
   ],
   "source": [
    "apps.append('gallery')\n",
    "print(apps)"
   ]
  },
  {
   "cell_type": "code",
   "execution_count": 7,
   "metadata": {},
   "outputs": [
    {
     "name": "stdout",
     "output_type": "stream",
     "text": [
      "['Facebook', 'chrome', 'firefox', 'safari', 'edge', 'opera', 'brave', 'vivaldi', 'tor', 'duckduckgo', 'gallery']\n"
     ]
    }
   ],
   "source": [
    "apps.insert(0, 'Facebook')\n",
    "print(apps)"
   ]
  },
  {
   "cell_type": "code",
   "execution_count": 8,
   "metadata": {},
   "outputs": [
    {
     "name": "stdout",
     "output_type": "stream",
     "text": [
      "['gallery', 'duckduckgo', 'tor', 'vivaldi', 'brave', 'opera', 'edge', 'safari', 'firefox', 'chrome', 'Facebook']\n"
     ]
    }
   ],
   "source": [
    "apps.reverse()\n",
    "print(apps)"
   ]
  },
  {
   "cell_type": "code",
   "execution_count": 9,
   "metadata": {},
   "outputs": [
    {
     "name": "stdout",
     "output_type": "stream",
     "text": [
      "['gallery', 'duckduckgo', 'tor', 'vivaldi', 'brave', 'opera', 'edge', 'firefox', 'chrome', 'Facebook']\n"
     ]
    }
   ],
   "source": [
    "apps.pop(7)\n",
    "print(apps)"
   ]
  },
  {
   "cell_type": "code",
   "execution_count": 10,
   "metadata": {},
   "outputs": [
    {
     "name": "stdout",
     "output_type": "stream",
     "text": [
      "['gallery', 'duckduckgo', 'tor', 'vivaldi', 'brave', 'opera', 'firefox', 'chrome', 'Facebook']\n"
     ]
    }
   ],
   "source": [
    "apps.remove('edge')\n",
    "print(apps)"
   ]
  },
  {
   "cell_type": "code",
   "execution_count": 11,
   "metadata": {},
   "outputs": [
    {
     "name": "stdout",
     "output_type": "stream",
     "text": [
      "['Facebook', 'brave', 'chrome', 'duckduckgo', 'firefox', 'gallery', 'opera', 'tor', 'vivaldi']\n"
     ]
    }
   ],
   "source": [
    "apps.sort()\n",
    "print(apps)"
   ]
  },
  {
   "cell_type": "code",
   "execution_count": 12,
   "metadata": {},
   "outputs": [
    {
     "name": "stdout",
     "output_type": "stream",
     "text": [
      "['Facebook', 'brave', 'chrome', 'duckduckgo', 'firefox', 'gallery', 'opera', 'tor', 'vivaldi']\n"
     ]
    }
   ],
   "source": [
    "x=apps.copy()\n",
    "print(x)"
   ]
  },
  {
   "cell_type": "code",
   "execution_count": 13,
   "metadata": {},
   "outputs": [
    {
     "name": "stdout",
     "output_type": "stream",
     "text": [
      "[]\n"
     ]
    }
   ],
   "source": [
    "x.clear()\n",
    "print(x)"
   ]
  },
  {
   "cell_type": "code",
   "execution_count": 14,
   "metadata": {},
   "outputs": [
    {
     "name": "stdout",
     "output_type": "stream",
     "text": [
      "1\n"
     ]
    }
   ],
   "source": [
    "a=apps.count('chrome')\n",
    "print(a)"
   ]
  },
  {
   "cell_type": "code",
   "execution_count": 15,
   "metadata": {},
   "outputs": [
    {
     "name": "stdout",
     "output_type": "stream",
     "text": [
      "['Samsung', 'Apple', '1+', 'Redmi', 'Xiaomi', 'Nothing', 'Oppo']\n"
     ]
    }
   ],
   "source": [
    "mobile=[\"Samsung\",\"Apple\",\"1+\",\"Redmi\",\"Xiaomi\",\"Nothing\",\"Oppo\"]\n",
    "print(mobile)"
   ]
  },
  {
   "cell_type": "code",
   "execution_count": 16,
   "metadata": {},
   "outputs": [
    {
     "name": "stdout",
     "output_type": "stream",
     "text": [
      "['Facebook', 'brave', 'chrome', 'duckduckgo', 'firefox', 'gallery', 'opera', 'tor', 'vivaldi', 'Samsung', 'Apple', '1+', 'Redmi', 'Xiaomi', 'Nothing', 'Oppo']\n"
     ]
    }
   ],
   "source": [
    "apps.extend(mobile)\n",
    "print(apps)"
   ]
  },
  {
   "cell_type": "code",
   "execution_count": 17,
   "metadata": {},
   "outputs": [
    {
     "name": "stdout",
     "output_type": "stream",
     "text": [
      "['Samsung', 'Apple', '1+', 'Redmi', 'Xiaomi', 'Nothing', 'Oppo', 'Facebook', 'brave', 'chrome', 'duckduckgo', 'firefox', 'gallery', 'opera', 'tor', 'vivaldi', 'Samsung', 'Apple', '1+', 'Redmi', 'Xiaomi', 'Nothing', 'Oppo']\n"
     ]
    }
   ],
   "source": [
    "mobile.extend(apps)\n",
    "print(mobile)"
   ]
  },
  {
   "cell_type": "code",
   "execution_count": null,
   "metadata": {},
   "outputs": [],
   "source": []
  }
 ],
 "metadata": {
  "kernelspec": {
   "display_name": "base",
   "language": "python",
   "name": "python3"
  },
  "language_info": {
   "codemirror_mode": {
    "name": "ipython",
    "version": 3
   },
   "file_extension": ".py",
   "mimetype": "text/x-python",
   "name": "python",
   "nbconvert_exporter": "python",
   "pygments_lexer": "ipython3",
   "version": "3.9.12"
  },
  "orig_nbformat": 4
 },
 "nbformat": 4,
 "nbformat_minor": 2
}
