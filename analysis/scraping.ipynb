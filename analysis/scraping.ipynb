{
 "cells": [
  {
   "cell_type": "code",
   "execution_count": 37,
   "metadata": {},
   "outputs": [],
   "source": [
    "from dputils.scrape import Tag, Scraper\n"
   ]
  },
  {
   "cell_type": "markdown",
   "metadata": {},
   "source": [
    "- Tag class helps to decide what to collect from the page\n",
    "- Scraper executes the scraping process"
   ]
  },
  {
   "cell_type": "code",
   "execution_count": 38,
   "metadata": {},
   "outputs": [],
   "source": [
    "url = \"https://www.amazon.in/s?k=lapatop&crid=8GSJN3AIW1IC&sprefix=lapatop%2Caps%2C235&ref=nb_sb_noss_2\""
   ]
  },
  {
   "cell_type": "code",
   "execution_count": 39,
   "metadata": {},
   "outputs": [
    {
     "name": "stdout",
     "output_type": "stream",
     "text": [
      "\u001b[1;31mInit signature:\u001b[0m\n",
      "\u001b[0mTag\u001b[0m\u001b[1;33m(\u001b[0m\u001b[1;33m\n",
      "\u001b[0m    \u001b[0mname\u001b[0m\u001b[1;33m:\u001b[0m \u001b[0mstr\u001b[0m \u001b[1;33m=\u001b[0m \u001b[1;34m'div'\u001b[0m\u001b[1;33m,\u001b[0m\u001b[1;33m\n",
      "\u001b[0m    \u001b[0moutput\u001b[0m\u001b[1;33m:\u001b[0m \u001b[0mstr\u001b[0m \u001b[1;33m=\u001b[0m \u001b[1;34m'text'\u001b[0m\u001b[1;33m,\u001b[0m\u001b[1;33m\n",
      "\u001b[0m    \u001b[0mcls\u001b[0m\u001b[1;33m:\u001b[0m \u001b[0mstr\u001b[0m \u001b[1;33m=\u001b[0m \u001b[1;32mNone\u001b[0m\u001b[1;33m,\u001b[0m\u001b[1;33m\n",
      "\u001b[0m    \u001b[0mid\u001b[0m\u001b[1;33m:\u001b[0m \u001b[0mstr\u001b[0m \u001b[1;33m=\u001b[0m \u001b[1;32mNone\u001b[0m\u001b[1;33m,\u001b[0m\u001b[1;33m\n",
      "\u001b[0m    \u001b[0mattrs\u001b[0m\u001b[1;33m:\u001b[0m \u001b[0mdict\u001b[0m \u001b[1;33m=\u001b[0m \u001b[1;32mNone\u001b[0m\u001b[1;33m,\u001b[0m\u001b[1;33m\n",
      "\u001b[0m\u001b[1;33m)\u001b[0m \u001b[1;33m->\u001b[0m \u001b[1;32mNone\u001b[0m\u001b[1;33m\u001b[0m\u001b[1;33m\u001b[0m\u001b[0m\n",
      "\u001b[1;31mDocstring:\u001b[0m      Tag(name: str = 'div', output: str = 'text', cls: str = None, id: str = None, attrs: dict = None)\n",
      "\u001b[1;31mFile:\u001b[0m           c:\\users\\lenovo\\miniconda3\\lib\\site-packages\\dputils\\scrape.py\n",
      "\u001b[1;31mType:\u001b[0m           type\n",
      "\u001b[1;31mSubclasses:\u001b[0m     \n"
     ]
    }
   ],
   "source": [
    "Tag?"
   ]
  },
  {
   "cell_type": "code",
   "execution_count": 40,
   "metadata": {},
   "outputs": [
    {
     "name": "stdout",
     "output_type": "stream",
     "text": [
      "\u001b[1;31mInit signature:\u001b[0m\n",
      "\u001b[0mScraper\u001b[0m\u001b[1;33m(\u001b[0m\u001b[1;33m\n",
      "\u001b[0m    \u001b[0murl\u001b[0m\u001b[1;33m:\u001b[0m \u001b[0mstr\u001b[0m\u001b[1;33m,\u001b[0m\u001b[1;33m\n",
      "\u001b[0m    \u001b[0muser_agent\u001b[0m\u001b[1;33m:\u001b[0m \u001b[0mstr\u001b[0m \u001b[1;33m=\u001b[0m \u001b[1;32mNone\u001b[0m\u001b[1;33m,\u001b[0m\u001b[1;33m\n",
      "\u001b[0m    \u001b[0mcookies\u001b[0m\u001b[1;33m:\u001b[0m \u001b[0mdict\u001b[0m \u001b[1;33m=\u001b[0m \u001b[1;32mNone\u001b[0m\u001b[1;33m,\u001b[0m\u001b[1;33m\n",
      "\u001b[0m    \u001b[0mclean\u001b[0m\u001b[1;33m:\u001b[0m \u001b[0mbool\u001b[0m \u001b[1;33m=\u001b[0m \u001b[1;32mFalse\u001b[0m\u001b[1;33m,\u001b[0m\u001b[1;33m\n",
      "\u001b[0m\u001b[1;33m)\u001b[0m\u001b[1;33m\u001b[0m\u001b[1;33m\u001b[0m\u001b[0m\n",
      "\u001b[1;31mDocstring:\u001b[0m      <no docstring>\n",
      "\u001b[1;31mInit docstring:\u001b[0m\n",
      "Initializes Scraper class\n",
      "Args:\n",
      "    url: url of the webpage\n",
      "    user_agent: user agent of the browser (Default value = None)\n",
      "    cookies: cookies of the browser (Default value = None)\n",
      "    clean: cleans url (Default value = True)\n",
      "\u001b[1;31mFile:\u001b[0m           c:\\users\\lenovo\\miniconda3\\lib\\site-packages\\dputils\\scrape.py\n",
      "\u001b[1;31mType:\u001b[0m           type\n",
      "\u001b[1;31mSubclasses:\u001b[0m     \n"
     ]
    }
   ],
   "source": [
    "Scraper?"
   ]
  },
  {
   "cell_type": "code",
   "execution_count": 41,
   "metadata": {},
   "outputs": [],
   "source": [
    "amazon = Scraper(url)"
   ]
  },
  {
   "cell_type": "code",
   "execution_count": 42,
   "metadata": {},
   "outputs": [],
   "source": [
    "target =  Tag( cls = \"s-main-slot s-result-list s-search-results sg-row\")\n",
    "items =  Tag(cls = \"s-result-item\")\n",
    "title = Tag('h2',cls = \"a-size-mini a-spacing-none a-color-base s-line-clamp-2\")\n",
    "price = Tag('span',cls = \"a-price\")"
   ]
  },
  {
   "cell_type": "code",
   "execution_count": 43,
   "metadata": {},
   "outputs": [
    {
     "data": {
      "text/plain": [
       "[{'heading': None, 'price': '₹38,990₹38,990'},\n",
       " {'heading': None, 'price': None},\n",
       " {'heading': None, 'price': None},\n",
       " {'heading': 'Acer Aspire Lite 11th Gen Intel Core i5 Premium Metal Laptop (16GB RAM/512GB SSD/Intel Iris Xe Graphics/Windows 11 Home) AL15-51, 39.62cm (15.6\") Full HD Display, Metal Body, Steel Gray, 1.59 Kg  ',\n",
       "  'price': '₹38,990₹38,990'},\n",
       " {'heading': 'Acer Aspire Lite 11th Gen Intel Core i3 Premium Metal Laptop (8GB RAM/512GB SSD/Windows 11 Home) AL15-51, 39.62cm (15.6\") Full HD Display, Metal Body, Steel Gray, 1.59 Kg  ',\n",
       "  'price': '₹27,990₹27,990'},\n",
       " {'heading': 'HP Laptop 15s, 11th Gen Intel Core i3-1115G4, 15.6-inch (39.6 cm), FHD, 8GB DDR4, 512GB SSD, Intel UHD Graphics, Thin & Light, Dual Speakers (Win 11, MSO 2021, Silver, 1.69 kg), fq2673TU  ',\n",
       "  'price': '₹35,990₹35,990'},\n",
       " {'heading': None, 'price': None},\n",
       " {'heading': 'Dell 15 Laptop, Intel Core i5-1135G7 Processor/ 8GB/ 512GB/15.6\" (39.62cm) FHD with Comfort View/Mobile Connect/Backlit KB + FPR/Windows 11 + MSO\\'21/15 Months McAfee/Dark Silver/ 1.69kg  ',\n",
       "  'price': '₹46,990₹46,990'},\n",
       " {'heading': 'Lenovo IdeaPad Slim 3 Intel Core i7 11th Gen 15.6\" (39.62cm) FHD Laptop (16GB/512GB SSD/Win 11/Office 2021/1 Year Warranty/Arctic Grey/1.65Kg), 82H803LNIN  ',\n",
       "  'price': '₹49,990₹49,990'},\n",
       " {'heading': 'Dell 14 Laptop, Intel Core 11th Gen i3-1115G4/ 8GB/ 512GB /14.0\"(35.56cm) FHD Display with Comfort View/Windows 11 + MSO\\'21/15 Month McAfee/Spill-Resistant Keyboard/Carbon Black Color/1.48kg  ',\n",
       "  'price': '₹34,990₹34,990'},\n",
       " {'heading': 'ASUS Vivobook 15, IntelCore i7-12650H 12th Gen, 15.6\" (39.62 cm) FHD, Thin and Light Laptop (16 GB RAM/512GB SSD/Win11/Office 2021/Backlit/42WHr /Silver/1.75), X1502ZA-EJ742WS  ',\n",
       "  'price': '₹59,990₹59,990'},\n",
       " {'heading': 'HP Laptop 15s, 12th Gen Intel Core i3-1215U, 15.6-inch (39.6 cm), FHD, 8GB DDR4, 512GB SSD, Intel UHD Graphics, Backlit KB, Thin & Light, Dual Speakers (Win 11, MSO 2021, Silver, 1.69 kg), fq5007TU  ',\n",
       "  'price': '₹38,990₹38,990'},\n",
       " {'heading': 'Dell 14 Laptop, Intel Core i5-1135G7 Processor/ 8GB/ 512GB SSD/14.0\" (35.56cm) FHD Display with Comfort View/Windows 11 + MSO\\'21/ Spill-Resistant Keyboard/ 15 Month McAfee/ 1.48kg  ',\n",
       "  'price': '₹43,990₹43,990'},\n",
       " {'heading': None, 'price': None},\n",
       " {'heading': 'Lenovo IdeaPad Slim 3 Intel Core i5 12th Gen 15.6\" (39.62cm) FHD Thin & Light Laptop (16GB/512GB SSD/Windows 11/Office 2021/Backlit/2Yr Warranty/3months Game Pass/Arctic Grey/1.63Kg), 82RK00LXIN  ',\n",
       "  'price': '₹51,990₹51,990'},\n",
       " {'heading': 'HP Laptop 15s, AMD Ryzen 7 5700U, 15.6-inch (39.6 cm), FHD, 16GB DDR4, 512GB SSD, AMD Radeon Graphics, Backlit KB, Thin & Light, Dual Speakers (Win 11, MSO 2021, Silver, 1.69 kg), ey2001AU  ',\n",
       "  'price': '₹49,990₹49,990'},\n",
       " {'heading': 'HP Laptop 15s, 12th Gen Intel Core i7-1255U, 15.6-inch (39.6 cm), FHD, 16GB DDR4, 512GB SSD, Intel Iris Xe Graphics, Backlit KB, Thin & Light (Win 11, MSO 2021, Silver, 1.69 kg), fq5190TU  ',\n",
       "  'price': '₹63,990₹63,990'},\n",
       " {'heading': 'Dell G15 5520 Gaming Laptop, Intel i5-12500H/16GB DDR5/1TB SSD/15.6\" (39.62cm) FHD WVA AG 120Hz 250 nits/NVIDIA RTX 3050, 4 GB GDDR6/Win 11 + MSO\\'21/15 Months McAfee/Backlit KB/Dark Shadow Grey/2.81kg  ',\n",
       "  'price': '₹72,990₹72,990'},\n",
       " {'heading': 'Acer Aspire Lite 11th Gen Intel Core i3 Premium Metal Laptop (8GB RAM/256GB SSD/Windows 11 Home) AL15-51, 39.62cm (15.6\") Full HD Display, Metal Body, Steel Gray, 1.59 Kg  ',\n",
       "  'price': '₹26,990₹26,990'},\n",
       " {'heading': 'HP Laptop 15s, 11th Gen Intel Core i5-1155G7, 15.6-inch (39.6 cm), FHD, 16GB DDR4, 512GB SSD, Intel Iris Xe Graphics, Backlit KB, Thin & Light (Win 11, MSO 2021, Silver, 1.69 kg), fr4001TU  ',\n",
       "  'price': '₹54,160₹54,160'},\n",
       " {'heading': 'HONOR MagicBook X14 (2023), 12th Gen Intel Core i5-12450H (8GB/512GB NVMe SSD, 14-inch (35.56 cm) FHD IPS Anti-Glare Thin and Light Laptop/Windows 11/Backlit Keyboard/Fingerprint Login/1.43Kg), Gray  ',\n",
       "  'price': '₹48,990₹48,990'},\n",
       " {'heading': None, 'price': None},\n",
       " {'heading': None, 'price': None},\n",
       " {'heading': None, 'price': None},\n",
       " {'heading': None, 'price': None},\n",
       " {'heading': None, 'price': None}]"
      ]
     },
     "execution_count": 43,
     "metadata": {},
     "output_type": "execute_result"
    }
   ],
   "source": [
    "amazon.get_all(target,items,heading=title,price=price)"
   ]
  },
  {
   "cell_type": "code",
   "execution_count": 44,
   "metadata": {},
   "outputs": [],
   "source": [
    "result = amazon.get_all(target,items,heading=title,price=price)"
   ]
  },
  {
   "cell_type": "code",
   "execution_count": 45,
   "metadata": {},
   "outputs": [],
   "source": [
    "import pandas as pd"
   ]
  },
  {
   "cell_type": "code",
   "execution_count": 46,
   "metadata": {},
   "outputs": [
    {
     "data": {
      "text/html": [
       "<div>\n",
       "<style scoped>\n",
       "    .dataframe tbody tr th:only-of-type {\n",
       "        vertical-align: middle;\n",
       "    }\n",
       "\n",
       "    .dataframe tbody tr th {\n",
       "        vertical-align: top;\n",
       "    }\n",
       "\n",
       "    .dataframe thead th {\n",
       "        text-align: right;\n",
       "    }\n",
       "</style>\n",
       "<table border=\"1\" class=\"dataframe\">\n",
       "  <thead>\n",
       "    <tr style=\"text-align: right;\">\n",
       "      <th></th>\n",
       "      <th>heading</th>\n",
       "      <th>price</th>\n",
       "    </tr>\n",
       "  </thead>\n",
       "  <tbody>\n",
       "    <tr>\n",
       "      <th>0</th>\n",
       "      <td>None</td>\n",
       "      <td>₹38,990₹38,990</td>\n",
       "    </tr>\n",
       "    <tr>\n",
       "      <th>1</th>\n",
       "      <td>None</td>\n",
       "      <td>None</td>\n",
       "    </tr>\n",
       "    <tr>\n",
       "      <th>2</th>\n",
       "      <td>None</td>\n",
       "      <td>None</td>\n",
       "    </tr>\n",
       "    <tr>\n",
       "      <th>3</th>\n",
       "      <td>Acer Aspire Lite 11th Gen Intel Core i5 Premiu...</td>\n",
       "      <td>₹38,990₹38,990</td>\n",
       "    </tr>\n",
       "    <tr>\n",
       "      <th>4</th>\n",
       "      <td>Acer Aspire Lite 11th Gen Intel Core i3 Premiu...</td>\n",
       "      <td>₹27,990₹27,990</td>\n",
       "    </tr>\n",
       "    <tr>\n",
       "      <th>5</th>\n",
       "      <td>HP Laptop 15s, 11th Gen Intel Core i3-1115G4, ...</td>\n",
       "      <td>₹35,990₹35,990</td>\n",
       "    </tr>\n",
       "    <tr>\n",
       "      <th>6</th>\n",
       "      <td>None</td>\n",
       "      <td>None</td>\n",
       "    </tr>\n",
       "    <tr>\n",
       "      <th>7</th>\n",
       "      <td>Dell 15 Laptop, Intel Core i5-1135G7 Processor...</td>\n",
       "      <td>₹46,990₹46,990</td>\n",
       "    </tr>\n",
       "    <tr>\n",
       "      <th>8</th>\n",
       "      <td>Lenovo IdeaPad Slim 3 Intel Core i7 11th Gen 1...</td>\n",
       "      <td>₹49,990₹49,990</td>\n",
       "    </tr>\n",
       "    <tr>\n",
       "      <th>9</th>\n",
       "      <td>Dell 14 Laptop, Intel Core 11th Gen i3-1115G4/...</td>\n",
       "      <td>₹34,990₹34,990</td>\n",
       "    </tr>\n",
       "    <tr>\n",
       "      <th>10</th>\n",
       "      <td>ASUS Vivobook 15, IntelCore i7-12650H 12th Gen...</td>\n",
       "      <td>₹59,990₹59,990</td>\n",
       "    </tr>\n",
       "    <tr>\n",
       "      <th>11</th>\n",
       "      <td>HP Laptop 15s, 12th Gen Intel Core i3-1215U, 1...</td>\n",
       "      <td>₹38,990₹38,990</td>\n",
       "    </tr>\n",
       "    <tr>\n",
       "      <th>12</th>\n",
       "      <td>Dell 14 Laptop, Intel Core i5-1135G7 Processor...</td>\n",
       "      <td>₹43,990₹43,990</td>\n",
       "    </tr>\n",
       "    <tr>\n",
       "      <th>13</th>\n",
       "      <td>None</td>\n",
       "      <td>None</td>\n",
       "    </tr>\n",
       "    <tr>\n",
       "      <th>14</th>\n",
       "      <td>Lenovo IdeaPad Slim 3 Intel Core i5 12th Gen 1...</td>\n",
       "      <td>₹51,990₹51,990</td>\n",
       "    </tr>\n",
       "    <tr>\n",
       "      <th>15</th>\n",
       "      <td>HP Laptop 15s, AMD Ryzen 7 5700U, 15.6-inch (3...</td>\n",
       "      <td>₹49,990₹49,990</td>\n",
       "    </tr>\n",
       "    <tr>\n",
       "      <th>16</th>\n",
       "      <td>HP Laptop 15s, 12th Gen Intel Core i7-1255U, 1...</td>\n",
       "      <td>₹63,990₹63,990</td>\n",
       "    </tr>\n",
       "    <tr>\n",
       "      <th>17</th>\n",
       "      <td>Dell G15 5520 Gaming Laptop, Intel i5-12500H/1...</td>\n",
       "      <td>₹72,990₹72,990</td>\n",
       "    </tr>\n",
       "    <tr>\n",
       "      <th>18</th>\n",
       "      <td>Acer Aspire Lite 11th Gen Intel Core i3 Premiu...</td>\n",
       "      <td>₹26,990₹26,990</td>\n",
       "    </tr>\n",
       "    <tr>\n",
       "      <th>19</th>\n",
       "      <td>HP Laptop 15s, 11th Gen Intel Core i5-1155G7, ...</td>\n",
       "      <td>₹54,160₹54,160</td>\n",
       "    </tr>\n",
       "    <tr>\n",
       "      <th>20</th>\n",
       "      <td>HONOR MagicBook X14 (2023), 12th Gen Intel Cor...</td>\n",
       "      <td>₹48,990₹48,990</td>\n",
       "    </tr>\n",
       "    <tr>\n",
       "      <th>21</th>\n",
       "      <td>None</td>\n",
       "      <td>None</td>\n",
       "    </tr>\n",
       "    <tr>\n",
       "      <th>22</th>\n",
       "      <td>None</td>\n",
       "      <td>None</td>\n",
       "    </tr>\n",
       "    <tr>\n",
       "      <th>23</th>\n",
       "      <td>None</td>\n",
       "      <td>None</td>\n",
       "    </tr>\n",
       "    <tr>\n",
       "      <th>24</th>\n",
       "      <td>None</td>\n",
       "      <td>None</td>\n",
       "    </tr>\n",
       "    <tr>\n",
       "      <th>25</th>\n",
       "      <td>None</td>\n",
       "      <td>None</td>\n",
       "    </tr>\n",
       "  </tbody>\n",
       "</table>\n",
       "</div>"
      ],
      "text/plain": [
       "                                              heading           price\n",
       "0                                                None  ₹38,990₹38,990\n",
       "1                                                None            None\n",
       "2                                                None            None\n",
       "3   Acer Aspire Lite 11th Gen Intel Core i5 Premiu...  ₹38,990₹38,990\n",
       "4   Acer Aspire Lite 11th Gen Intel Core i3 Premiu...  ₹27,990₹27,990\n",
       "5   HP Laptop 15s, 11th Gen Intel Core i3-1115G4, ...  ₹35,990₹35,990\n",
       "6                                                None            None\n",
       "7   Dell 15 Laptop, Intel Core i5-1135G7 Processor...  ₹46,990₹46,990\n",
       "8   Lenovo IdeaPad Slim 3 Intel Core i7 11th Gen 1...  ₹49,990₹49,990\n",
       "9   Dell 14 Laptop, Intel Core 11th Gen i3-1115G4/...  ₹34,990₹34,990\n",
       "10  ASUS Vivobook 15, IntelCore i7-12650H 12th Gen...  ₹59,990₹59,990\n",
       "11  HP Laptop 15s, 12th Gen Intel Core i3-1215U, 1...  ₹38,990₹38,990\n",
       "12  Dell 14 Laptop, Intel Core i5-1135G7 Processor...  ₹43,990₹43,990\n",
       "13                                               None            None\n",
       "14  Lenovo IdeaPad Slim 3 Intel Core i5 12th Gen 1...  ₹51,990₹51,990\n",
       "15  HP Laptop 15s, AMD Ryzen 7 5700U, 15.6-inch (3...  ₹49,990₹49,990\n",
       "16  HP Laptop 15s, 12th Gen Intel Core i7-1255U, 1...  ₹63,990₹63,990\n",
       "17  Dell G15 5520 Gaming Laptop, Intel i5-12500H/1...  ₹72,990₹72,990\n",
       "18  Acer Aspire Lite 11th Gen Intel Core i3 Premiu...  ₹26,990₹26,990\n",
       "19  HP Laptop 15s, 11th Gen Intel Core i5-1155G7, ...  ₹54,160₹54,160\n",
       "20  HONOR MagicBook X14 (2023), 12th Gen Intel Cor...  ₹48,990₹48,990\n",
       "21                                               None            None\n",
       "22                                               None            None\n",
       "23                                               None            None\n",
       "24                                               None            None\n",
       "25                                               None            None"
      ]
     },
     "execution_count": 46,
     "metadata": {},
     "output_type": "execute_result"
    }
   ],
   "source": [
    "df = pd.DataFrame(result)\n",
    "df"
   ]
  },
  {
   "cell_type": "code",
   "execution_count": null,
   "metadata": {},
   "outputs": [],
   "source": []
  }
 ],
 "metadata": {
  "kernelspec": {
   "display_name": "base",
   "language": "python",
   "name": "python3"
  },
  "language_info": {
   "codemirror_mode": {
    "name": "ipython",
    "version": 3
   },
   "file_extension": ".py",
   "mimetype": "text/x-python",
   "name": "python",
   "nbconvert_exporter": "python",
   "pygments_lexer": "ipython3",
   "version": "3.9.12"
  }
 },
 "nbformat": 4,
 "nbformat_minor": 2
}
