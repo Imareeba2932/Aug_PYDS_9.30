{
 "cells": [
  {
   "cell_type": "markdown",
   "metadata": {},
   "source": [
    "LOOPS\n",
    "- for \n",
    "- while \n",
    "- do while\n",
    "- nested loops"
   ]
  },
  {
   "cell_type": "code",
   "execution_count": 3,
   "metadata": {},
   "outputs": [
    {
     "name": "stdout",
     "output_type": "stream",
     "text": [
      "apple\n",
      "banana\n",
      "cherry\n",
      "orange\n",
      "kiwi\n",
      "melon\n",
      "mango\n",
      "grape\n"
     ]
    }
   ],
   "source": [
    "a=['apple','banana','cherry','orange','kiwi','melon','mango','grape']\n",
    "for x in a :\n",
    "    print(x)"
   ]
  },
  {
   "cell_type": "code",
   "execution_count": 4,
   "metadata": {},
   "outputs": [
    {
     "name": "stdout",
     "output_type": "stream",
     "text": [
      "hello world\n",
      "hello world\n",
      "hello world\n",
      "hello world\n",
      "hello world\n",
      "hello world\n",
      "hello world\n",
      "hello world\n",
      "hello world\n",
      "hello world\n"
     ]
    }
   ],
   "source": [
    "for x in range(10):\n",
    "    print(\"hello world\")"
   ]
  },
  {
   "cell_type": "code",
   "execution_count": 5,
   "metadata": {},
   "outputs": [
    {
     "name": "stdout",
     "output_type": "stream",
     "text": [
      "2\n",
      "3\n",
      "4\n",
      "5\n",
      "6\n",
      "7\n",
      "8\n",
      "9\n"
     ]
    }
   ],
   "source": [
    "for x in range(2, 10):\n",
    "    print(x)"
   ]
  },
  {
   "cell_type": "code",
   "execution_count": 6,
   "metadata": {},
   "outputs": [
    {
     "name": "stdout",
     "output_type": "stream",
     "text": [
      "1\n",
      "4\n",
      "7\n",
      "10\n",
      "13\n",
      "16\n",
      "19\n"
     ]
    }
   ],
   "source": [
    "for i in range(1,20,3):\n",
    "    print(i)"
   ]
  },
  {
   "cell_type": "code",
   "execution_count": 7,
   "metadata": {},
   "outputs": [
    {
     "name": "stdout",
     "output_type": "stream",
     "text": [
      "h\n",
      "e\n",
      "l\n",
      "l\n",
      "o\n",
      " \n",
      "w\n",
      "o\n",
      "r\n",
      "l\n",
      "d\n"
     ]
    }
   ],
   "source": [
    "a=\"hello world\"\n",
    "for i in a:\n",
    "    print(i)"
   ]
  },
  {
   "cell_type": "code",
   "execution_count": 8,
   "metadata": {},
   "outputs": [
    {
     "name": "stdout",
     "output_type": "stream",
     "text": [
      "h\n",
      "e\n",
      "l\n",
      "l\n",
      "o\n"
     ]
    }
   ],
   "source": [
    "a=\"hello world\"\n",
    "for i in range(0,5):\n",
    "    print(a[i])"
   ]
  },
  {
   "cell_type": "code",
   "execution_count": 9,
   "metadata": {},
   "outputs": [
    {
     "name": "stdout",
     "output_type": "stream",
     "text": [
      "0\n",
      "1\n",
      "2\n",
      "3\n",
      "4\n",
      "5\n",
      "6\n",
      "7\n",
      "8\n",
      "9\n",
      "10\n",
      "11\n",
      "12\n",
      "13\n",
      "14\n",
      "15\n",
      "16\n",
      "17\n",
      "18\n",
      "19\n",
      "20\n"
     ]
    }
   ],
   "source": [
    "for i in range(21):\n",
    "    print(i)"
   ]
  },
  {
   "cell_type": "code",
   "execution_count": 10,
   "metadata": {},
   "outputs": [
    {
     "name": "stdout",
     "output_type": "stream",
     "text": [
      "0\n",
      "1\n",
      "2\n",
      "3\n",
      "4\n",
      "5\n",
      "6\n",
      "7\n",
      "8\n",
      "9\n",
      "10\n",
      "11\n",
      "12\n",
      "13\n",
      "14\n",
      "15\n",
      "16\n",
      "17\n",
      "18\n",
      "19\n",
      "20\n"
     ]
    }
   ],
   "source": [
    "i=0\n",
    "while i<=20:\n",
    "    print(i)\n",
    "    i+=1"
   ]
  },
  {
   "cell_type": "code",
   "execution_count": 11,
   "metadata": {},
   "outputs": [
    {
     "name": "stdout",
     "output_type": "stream",
     "text": [
      "even : 2\n",
      "odd : 3\n",
      "odd : 5\n",
      "even : 4\n",
      "odd : 7\n",
      "odd : 5\n",
      "even : 6\n",
      "even : 2\n",
      "even : 4\n",
      "odd : 9\n",
      "odd : 7\n",
      "even : 8\n"
     ]
    }
   ],
   "source": [
    "a=[2,3,5,4,7,5,6,2,4,9,7,8]\n",
    "for i in a:\n",
    "    if i%2==0:\n",
    "        print(f'even : {i}')\n",
    "    else:\n",
    "        print(f'odd : {i}')\n",
    "        "
   ]
  },
  {
   "cell_type": "markdown",
   "metadata": {},
   "source": [
    "BREAK"
   ]
  },
  {
   "cell_type": "code",
   "execution_count": 12,
   "metadata": {},
   "outputs": [
    {
     "name": "stdout",
     "output_type": "stream",
     "text": [
      "3 7 58 5 2 5 4 44 8 5 6 7 "
     ]
    }
   ],
   "source": [
    "x=[3,7,58,5,2,5,4,44,8,5,6,7,0,8,9,77,6,4,433,0]\n",
    "for i in x:\n",
    "    if i==0:\n",
    "        break\n",
    "    print(i, end=' ')"
   ]
  },
  {
   "cell_type": "code",
   "execution_count": 13,
   "metadata": {},
   "outputs": [
    {
     "name": "stdout",
     "output_type": "stream",
     "text": [
      "Arya is good student\n",
      "Danish is good student\n",
      "Akash is good student\n",
      "Lokesh is most talkative person in the class\n"
     ]
    }
   ],
   "source": [
    "students=['Arya','Danish','Akash','Lokesh','Siddhant','Anshuman']\n",
    "for student in students:\n",
    "    if student=='Lokesh':\n",
    "        print('Lokesh is most talkative person in the class')\n",
    "        break\n",
    "    print(f\"{student} is good student\")\n",
    "    "
   ]
  },
  {
   "cell_type": "code",
   "execution_count": 14,
   "metadata": {},
   "outputs": [
    {
     "name": "stdout",
     "output_type": "stream",
     "text": [
      "2 5 7 3 8 9 7 9 0 3 7 5 "
     ]
    }
   ],
   "source": [
    "a=[2,5,4,6,7,3,6,8,9,4,7,9,0,4,3,7,5]\n",
    "for i in a:\n",
    "    if i==6 or i==4:\n",
    "        continue\n",
    "    print(i, end=\" \")"
   ]
  },
  {
   "cell_type": "code",
   "execution_count": 15,
   "metadata": {},
   "outputs": [
    {
     "name": "stdout",
     "output_type": "stream",
     "text": [
      "1 2 3 5 1 2 23 3 1 2 2 3 3 "
     ]
    }
   ],
   "source": [
    "x=[1,2,3,None,5,1,None,2,23,None,3,1,2,2,3,None,3]\n",
    "for num in x:\n",
    "    if num is None:\n",
    "        continue\n",
    "    print(num,end=\" \")"
   ]
  },
  {
   "cell_type": "code",
   "execution_count": 16,
   "metadata": {},
   "outputs": [
    {
     "name": "stdout",
     "output_type": "stream",
     "text": [
      "43\n"
     ]
    }
   ],
   "source": [
    "odd_sum=0\n",
    "for num in x:\n",
    "    if num is not None and num%2!=0:\n",
    "        odd_sum+=num\n",
    "print(odd_sum)"
   ]
  },
  {
   "cell_type": "code",
   "execution_count": 17,
   "metadata": {},
   "outputs": [
    {
     "name": "stdout",
     "output_type": "stream",
     "text": [
      "1: John\n",
      "2: Bob\n",
      "3: Alice\n",
      "4: Mary\n"
     ]
    }
   ],
   "source": [
    "names=[\"John\",\"Bob\",\"Alice\",\"Mary\"]\n",
    "for idx, name in enumerate(names):\n",
    "    print(f\"{idx+1}: {name}\")"
   ]
  },
  {
   "cell_type": "code",
   "execution_count": 18,
   "metadata": {},
   "outputs": [
    {
     "name": "stdout",
     "output_type": "stream",
     "text": [
      "12\n",
      "36\n",
      "50\n",
      "28\n",
      "35\n",
      "12\n",
      "100\n",
      "30\n"
     ]
    }
   ],
   "source": [
    "x=[2,4,5,7,5,2,4,5]\n",
    "y=[5,8,9,3,6,5,24,5]\n",
    "z=[2,4,5,7,5,2,4,5]\n",
    "for i, j, k in zip(x, y, z):\n",
    "    print(i*j+k)"
   ]
  },
  {
   "cell_type": "code",
   "execution_count": 19,
   "metadata": {},
   "outputs": [
    {
     "name": "stdout",
     "output_type": "stream",
     "text": [
      "Interstellar has a rating of 8.6🌟🌟 on IMDB\n",
      "The Martian has a rating of 8🌟🌟 on IMDB\n",
      "Gravity has a rating of 7.7🌟🌟 on IMDB\n",
      "Apollo 13 has a rating of 7.6🌟🌟 on IMDB\n"
     ]
    }
   ],
   "source": [
    "movies= ['Interstellar','The Martian','Gravity','Apollo 13']\n",
    "rating= [8.6,8,7.7,7.6]\n",
    "\n",
    "for name, star in zip(movies,rating):\n",
    "    print(f'{name} has a rating of {star}🌟🌟 on IMDB')"
   ]
  },
  {
   "cell_type": "code",
   "execution_count": null,
   "metadata": {},
   "outputs": [],
   "source": []
  }
 ],
 "metadata": {
  "kernelspec": {
   "display_name": "Python 3",
   "language": "python",
   "name": "python3"
  },
  "language_info": {
   "codemirror_mode": {
    "name": "ipython",
    "version": 3
   },
   "file_extension": ".py",
   "mimetype": "text/x-python",
   "name": "python",
   "nbconvert_exporter": "python",
   "pygments_lexer": "ipython3",
   "version": "3.11.4"
  },
  "orig_nbformat": 4
 },
 "nbformat": 4,
 "nbformat_minor": 2
}
