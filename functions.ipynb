{
 "cells": [
  {
   "cell_type": "markdown",
   "metadata": {},
   "source": [
    "TYPES OF FUNCTIONS\n",
    "- User defined Function\n",
    "- Built in Functions\n",
    "- Parameterized Functions\n",
    "- Non-Parameterized Functions"
   ]
  },
  {
   "cell_type": "code",
   "execution_count": 4,
   "metadata": {},
   "outputs": [],
   "source": [
    "def greet(): #Function initialising\n",
    "    print(\"Hello\")\n",
    "    print(\"Good Morning\")\n",
    "    print(\"How r u?\")\n",
    "    print(\"I am fine, thankyou!\")\n",
    "    "
   ]
  },
  {
   "cell_type": "code",
   "execution_count": 3,
   "metadata": {},
   "outputs": [
    {
     "name": "stdout",
     "output_type": "stream",
     "text": [
      "Hello\n",
      "Good Morning\n",
      "How r u?\n",
      "I am fine, thankyou!\n"
     ]
    }
   ],
   "source": [
    "greet() #Function calling"
   ]
  },
  {
   "cell_type": "code",
   "execution_count": 6,
   "metadata": {},
   "outputs": [
    {
     "name": "stdout",
     "output_type": "stream",
     "text": [
      "Hello World!\n",
      "Outside Function\n"
     ]
    }
   ],
   "source": [
    "def greetings():\n",
    "    print(\"Hello World!\")\n",
    "\n",
    "greetings()\n",
    "print(\"Outside Function\")"
   ]
  },
  {
   "cell_type": "code",
   "execution_count": 10,
   "metadata": {},
   "outputs": [
    {
     "name": "stdout",
     "output_type": "stream",
     "text": [
      "8\n"
     ]
    }
   ],
   "source": [
    "def add(num1 , num2): #Parameters\n",
    "    sum = num1 + num2\n",
    "    print(sum)\n",
    "\n",
    "add(3 , 5) #Arguments"
   ]
  },
  {
   "cell_type": "code",
   "execution_count": 11,
   "metadata": {},
   "outputs": [
    {
     "name": "stdout",
     "output_type": "stream",
     "text": [
      "11\n"
     ]
    }
   ],
   "source": [
    "def add(num1 , num2): #Parameters\n",
    "    sum = num1 + num2\n",
    "    print(sum)\n",
    "\n",
    "add(num1=5 , num2=6) #Arguments"
   ]
  },
  {
   "cell_type": "code",
   "execution_count": 12,
   "metadata": {},
   "outputs": [],
   "source": [
    "def my_name(name):\n",
    "    return f'Hello! {name}'"
   ]
  },
  {
   "cell_type": "code",
   "execution_count": 19,
   "metadata": {},
   "outputs": [
    {
     "data": {
      "text/plain": [
       "'Hello! Areeba'"
      ]
     },
     "execution_count": 19,
     "metadata": {},
     "output_type": "execute_result"
    }
   ],
   "source": [
    "#name=\"Areeba\"\n",
    "#my_name(name)\n",
    "my_name(\"Areeba\")\n"
   ]
  },
  {
   "cell_type": "code",
   "execution_count": 20,
   "metadata": {},
   "outputs": [
    {
     "data": {
      "text/plain": [
       "'Hello! Areeba Shakeel'"
      ]
     },
     "execution_count": 20,
     "metadata": {},
     "output_type": "execute_result"
    }
   ],
   "source": [
    "my_name(\"Areeba Shakeel\")"
   ]
  },
  {
   "cell_type": "code",
   "execution_count": 21,
   "metadata": {},
   "outputs": [
    {
     "data": {
      "text/plain": [
       "('Welcome', 'to', 'Digipodium')"
      ]
     },
     "execution_count": 21,
     "metadata": {},
     "output_type": "execute_result"
    }
   ],
   "source": [
    "def my_func():\n",
    "    return 'Welcome' , 'to', 'Digipodium'\n",
    "my_func()"
   ]
  },
  {
   "cell_type": "code",
   "execution_count": 28,
   "metadata": {},
   "outputs": [
    {
     "name": "stdout",
     "output_type": "stream",
     "text": [
      "Welcome\n",
      "to\n",
      "Digipodium\n",
      "Welcome to Digipodium\n"
     ]
    }
   ],
   "source": [
    "a , b , c = my_func()\n",
    "print(a)\n",
    "print(b)\n",
    "print(c)\n",
    "print(f'{a} {b} {c}')"
   ]
  },
  {
   "cell_type": "code",
   "execution_count": 30,
   "metadata": {},
   "outputs": [
    {
     "name": "stdout",
     "output_type": "stream",
     "text": [
      "Square of num : 9\n"
     ]
    }
   ],
   "source": [
    "def find_square(num):\n",
    "    return num**2\n",
    "\n",
    "square = find_square(3)\n",
    "print('Square of num :', square)"
   ]
  },
  {
   "cell_type": "code",
   "execution_count": 32,
   "metadata": {},
   "outputs": [
    {
     "name": "stdout",
     "output_type": "stream",
     "text": [
      "18\n"
     ]
    }
   ],
   "source": [
    "def add_num(num1, num2, num3):\n",
    "    return num1 + num2 + num3\n",
    "result = add_num(5,4,9)\n",
    "print(result)\n"
   ]
  },
  {
   "cell_type": "markdown",
   "metadata": {},
   "source": [
    "QUESTIONS\n",
    "- Check even or odd\n",
    "- Convert Temperature Celcius to Fahrenheit\n",
    "- Find Maximum of Two Numbers\n",
    "- Calculate Factorial\n",
    "- Reverse a String\n",
    "- Count Vowels in a string\n",
    "- Calculate BMI (Body Mass Index)"
   ]
  },
  {
   "cell_type": "code",
   "execution_count": 2,
   "metadata": {},
   "outputs": [
    {
     "name": "stdout",
     "output_type": "stream",
     "text": [
      "o\n"
     ]
    }
   ],
   "source": [
    "a=\"Hello World!\"\n",
    "print(a[7])"
   ]
  },
  {
   "cell_type": "code",
   "execution_count": null,
   "metadata": {},
   "outputs": [],
   "source": []
  }
 ],
 "metadata": {
  "kernelspec": {
   "display_name": "Python 3",
   "language": "python",
   "name": "python3"
  },
  "language_info": {
   "codemirror_mode": {
    "name": "ipython",
    "version": 3
   },
   "file_extension": ".py",
   "mimetype": "text/x-python",
   "name": "python",
   "nbconvert_exporter": "python",
   "pygments_lexer": "ipython3",
   "version": "3.11.4"
  },
  "orig_nbformat": 4
 },
 "nbformat": 4,
 "nbformat_minor": 2
}
