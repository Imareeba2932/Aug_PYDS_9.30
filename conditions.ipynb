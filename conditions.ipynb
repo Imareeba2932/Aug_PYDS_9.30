{
 "cells": [
  {
   "cell_type": "markdown",
   "metadata": {},
   "source": [
    " CONDITIONS\n",
    "- if\n",
    "- elif\n",
    "- if+else\n",
    "- nested if"
   ]
  },
  {
   "cell_type": "code",
   "execution_count": 1,
   "metadata": {},
   "outputs": [
    {
     "name": "stdout",
     "output_type": "stream",
     "text": [
      "x is less than y\n"
     ]
    }
   ],
   "source": [
    "x=15\n",
    "y=20\n",
    "if x>y:\n",
    "    print('x is greater than y')\n",
    "if x<y:\n",
    "    print('x is less than y')"
   ]
  },
  {
   "cell_type": "code",
   "execution_count": 2,
   "metadata": {},
   "outputs": [
    {
     "name": "stdout",
     "output_type": "stream",
     "text": [
      "x is greater than y\n"
     ]
    }
   ],
   "source": [
    "x=10\n",
    "y=15\n",
    "z=20\n",
    "if x<y:\n",
    "    print(\"x is greater than y\")\n",
    "elif x>z:\n",
    "    print(\"x is greater than z\")\n",
    "else:\n",
    "    print(\"x is the smallest number\")\n",
    "\n"
   ]
  },
  {
   "cell_type": "code",
   "execution_count": 3,
   "metadata": {},
   "outputs": [
    {
     "ename": "ValueError",
     "evalue": "invalid literal for int() with base 10: ''",
     "output_type": "error",
     "traceback": [
      "\u001b[1;31m---------------------------------------------------------------------------\u001b[0m",
      "\u001b[1;31mValueError\u001b[0m                                Traceback (most recent call last)",
      "Cell \u001b[1;32mIn[3], line 2\u001b[0m\n\u001b[0;32m      1\u001b[0m total\u001b[39m=\u001b[39m\u001b[39m500\u001b[39m\n\u001b[1;32m----> 2\u001b[0m obt_marks\u001b[39m=\u001b[39m\u001b[39mint\u001b[39;49m(\u001b[39minput\u001b[39;49m(\u001b[39m\"\u001b[39;49m\u001b[39mEnter obtained marks: \u001b[39;49m\u001b[39m\"\u001b[39;49m))\n\u001b[0;32m      3\u001b[0m percentage\u001b[39m=\u001b[39m(obt_marks\u001b[39m/\u001b[39mtotal)\u001b[39m*\u001b[39m\u001b[39m100\u001b[39m\n\u001b[0;32m      4\u001b[0m \u001b[39mif\u001b[39;00m percentage\u001b[39m>\u001b[39m\u001b[39m=\u001b[39m\u001b[39m90\u001b[39m:\n",
      "\u001b[1;31mValueError\u001b[0m: invalid literal for int() with base 10: ''"
     ]
    }
   ],
   "source": [
    "total=500\n",
    "obt_marks=int(input(\"Enter obtained marks: \"))\n",
    "percentage=(obt_marks/total)*100\n",
    "if percentage>=90:\n",
    "    print(\"Grade: A+\")\n",
    "elif percentage>=80:\n",
    "    print(\"Grade: A\")\n",
    "elif percentage>=70:\n",
    "    print(\"Grade: B\")\n",
    "elif percentage>=60:\n",
    "    print(\"Grade: C\")\n",
    "elif percentage>=50:\n",
    "    print(\"Grade: D\")\n",
    "else:\n",
    "    print(\"Fail\")"
   ]
  },
  {
   "cell_type": "code",
   "execution_count": null,
   "metadata": {},
   "outputs": [
    {
     "name": "stdout",
     "output_type": "stream",
     "text": [
      "Even\n"
     ]
    }
   ],
   "source": [
    "x=8\n",
    "if x%2==0:\n",
    "    print(\"Even\")\n",
    "else:\n",
    "    print(\"Odd\")"
   ]
  },
  {
   "cell_type": "code",
   "execution_count": null,
   "metadata": {},
   "outputs": [
    {
     "name": "stdout",
     "output_type": "stream",
     "text": [
      "Consonant\n"
     ]
    }
   ],
   "source": [
    "vowel=['a','e','i','o','u','A','E','I','O','U']\n",
    "letter=input(\"Enter a letter: \")\n",
    "if letter in vowel:\n",
    "    print(\"Vowel\")\n",
    "else:\n",
    "    print(\"Consonant\")"
   ]
  },
  {
   "cell_type": "code",
   "execution_count": null,
   "metadata": {},
   "outputs": [
    {
     "name": "stdout",
     "output_type": "stream",
     "text": [
      "Invalid name😭\n"
     ]
    }
   ],
   "source": [
    "name=input(\"Enter the username\")\n",
    "email=input(\"Enter the email\")\n",
    "ps=input(\"Enter the password\")\n",
    "ps2=input(\"Enter the password again\")\n",
    "if len(name)>=4 and len(name)<=15:\n",
    "    if '@' in email and email.islower() and len(email)>10:\n",
    "        if len(ps)>=6 and ps!=name:\n",
    "            if ps==ps2:\n",
    "                print(\"Hurray🎉\")\n",
    "            else:\n",
    "                print(\"Password not matched😒\")\n",
    "        else:\n",
    "            print(\"Invalid password🤦‍♀️\")\n",
    "    else:\n",
    "        print(\"Invalid email🤦‍♂️\")\n",
    "else:\n",
    "    print(\"Invalid name😭\")\n",
    "\n"
   ]
  },
  {
   "cell_type": "code",
   "execution_count": null,
   "metadata": {},
   "outputs": [
    {
     "name": "stdout",
     "output_type": "stream",
     "text": [
      "10\n",
      "54\n"
     ]
    }
   ],
   "source": [
    "a=[2,5,4,6,3,7,9,4,6,8]\n",
    "print(len(a))\n",
    "b=sum(a)\n",
    "print(b)"
   ]
  },
  {
   "cell_type": "code",
   "execution_count": null,
   "metadata": {},
   "outputs": [
    {
     "name": "stdout",
     "output_type": "stream",
     "text": [
      "6\n"
     ]
    }
   ],
   "source": [
    "a=\"areeba\"\n",
    "print(len(a))"
   ]
  },
  {
   "cell_type": "code",
   "execution_count": null,
   "metadata": {},
   "outputs": [
    {
     "name": "stdout",
     "output_type": "stream",
     "text": [
      "I will go out for a walk\n",
      "I will go to the park\n"
     ]
    }
   ],
   "source": [
    "temperature=25\n",
    "weather=\"sunny\"\n",
    "if weather==\"sunny\":\n",
    "    print(\"I will go out for a walk\")\n",
    "    if temperature>30:\n",
    "        print(\"I will go to the beach\")\n",
    "    else:\n",
    "        print(\"I will go to the park\")\n",
    "else:\n",
    "    print(\"I will stay at home\")"
   ]
  },
  {
   "cell_type": "code",
   "execution_count": null,
   "metadata": {},
   "outputs": [
    {
     "name": "stdout",
     "output_type": "stream",
     "text": [
      "whatever\n"
     ]
    }
   ],
   "source": [
    "a=\"whatever\"\n",
    "print(a)"
   ]
  },
  {
   "cell_type": "code",
   "execution_count": 5,
   "metadata": {},
   "outputs": [
    {
     "name": "stdout",
     "output_type": "stream",
     "text": [
      "It's a traditional fuel vehicle\n"
     ]
    }
   ],
   "source": [
    "vehicle=input(\"Enter the type of vehicle:\")\n",
    "match vehicle:\n",
    "    case \"gasoline\" | \"diesel\":\n",
    "        print(\"It's a traditional fuel vehicle\")\n",
    "    case \"electric\":\n",
    "        print(\"It's an electric vehicle\")\n",
    "    case \"hybrid\":\n",
    "        print(\"It's a hybrid vehicle\")\n",
    "    case _:\n",
    "        print(\"I am not sure about this vehicle\")\n"
   ]
  },
  {
   "cell_type": "code",
   "execution_count": null,
   "metadata": {},
   "outputs": [],
   "source": []
  }
 ],
 "metadata": {
  "kernelspec": {
   "display_name": "base",
   "language": "python",
   "name": "python3"
  },
  "language_info": {
   "codemirror_mode": {
    "name": "ipython",
    "version": 3
   },
   "file_extension": ".py",
   "mimetype": "text/x-python",
   "name": "python",
   "nbconvert_exporter": "python",
   "pygments_lexer": "ipython3",
   "version": "undefined.undefined.undefined"
  },
  "orig_nbformat": 4
 },
 "nbformat": 4,
 "nbformat_minor": 2
}
