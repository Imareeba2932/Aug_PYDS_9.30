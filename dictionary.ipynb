{
 "cells": [
  {
   "cell_type": "markdown",
   "metadata": {},
   "source": [
    "- Declaration\n",
    "- Access key and values"
   ]
  },
  {
   "cell_type": "code",
   "execution_count": 2,
   "metadata": {},
   "outputs": [
    {
     "name": "stdout",
     "output_type": "stream",
     "text": [
      "{'name': 'John Cena', 'class': '2nd', 'roll no.': 21, 'marks': 90}\n"
     ]
    }
   ],
   "source": [
    "students={'name':'John Cena',\n",
    "          'class' : '2nd',\n",
    "          'roll no.' : 21,\n",
    "          'marks': 90}\n",
    "print(students)"
   ]
  },
  {
   "cell_type": "markdown",
   "metadata": {},
   "source": [
    "to access values there are two methods :"
   ]
  },
  {
   "cell_type": "code",
   "execution_count": 3,
   "metadata": {},
   "outputs": [
    {
     "name": "stdout",
     "output_type": "stream",
     "text": [
      "John Cena\n",
      "2nd\n"
     ]
    }
   ],
   "source": [
    "#1st method\n",
    "print(students['name'])\n",
    "print(students['class'])"
   ]
  },
  {
   "cell_type": "code",
   "execution_count": 4,
   "metadata": {},
   "outputs": [
    {
     "name": "stdout",
     "output_type": "stream",
     "text": [
      "John Cena\n",
      "2nd\n"
     ]
    }
   ],
   "source": [
    "#2nd method\n",
    "print(students.get('name'))\n",
    "print(students.get('class'))"
   ]
  },
  {
   "cell_type": "code",
   "execution_count": 5,
   "metadata": {},
   "outputs": [
    {
     "name": "stdout",
     "output_type": "stream",
     "text": [
      "{'name': 'John Cena', 'class': '2nd', 'roll no.': 21, 'marks': 90, 'school': 'SKD', 'Fathers name': 'Sam Cena'}\n"
     ]
    }
   ],
   "source": [
    "#to add items in a dictionary\n",
    "students['school']='SKD'\n",
    "students['Fathers name']='Sam Cena'\n",
    "print(students)"
   ]
  },
  {
   "cell_type": "code",
   "execution_count": 6,
   "metadata": {},
   "outputs": [
    {
     "name": "stdout",
     "output_type": "stream",
     "text": [
      "name\n",
      "class\n",
      "roll no.\n",
      "marks\n",
      "school\n",
      "Fathers name\n"
     ]
    }
   ],
   "source": [
    "for key in students:\n",
    "    print(key)"
   ]
  },
  {
   "cell_type": "code",
   "execution_count": 15,
   "metadata": {},
   "outputs": [
    {
     "name": "stdout",
     "output_type": "stream",
     "text": [
      "name : John Cena\n",
      "class : 2nd\n",
      "roll no. : 21\n",
      "marks : 90\n",
      "school : SKD\n",
      "Fathers name : Sam Cena\n"
     ]
    }
   ],
   "source": [
    "for k,v in students.items():\n",
    "    print(f'{k} : {v}')"
   ]
  },
  {
   "cell_type": "code",
   "execution_count": 8,
   "metadata": {},
   "outputs": [
    {
     "name": "stdout",
     "output_type": "stream",
     "text": [
      "dict_keys(['name', 'class', 'roll no.', 'marks', 'school', 'Fathers name'])\n",
      "dict_values(['John Cena', '2nd', 21, 90, 'SKD', 'Sam Cena'])\n",
      "dict_items([('name', 'John Cena'), ('class', '2nd'), ('roll no.', 21), ('marks', 90), ('school', 'SKD'), ('Fathers name', 'Sam Cena')])\n"
     ]
    }
   ],
   "source": [
    "print(students.keys())\n",
    "print(students.values())\n",
    "print(students.items())\n"
   ]
  },
  {
   "cell_type": "code",
   "execution_count": 9,
   "metadata": {},
   "outputs": [
    {
     "name": "stdout",
     "output_type": "stream",
     "text": [
      "{'Eglish': 67, 'Hindi': 90, 'Maths': 35, 'Science': 75, 'Social Science': 28}\n"
     ]
    }
   ],
   "source": [
    "raj_dict = {\n",
    "    'Eglish' : 67,\n",
    "    'Hindi' : 90,\n",
    "    'Maths' : 35,\n",
    "    'Science' : 75,\n",
    "    'Social Science' : 28\n",
    "}\n",
    "print(raj_dict)"
   ]
  },
  {
   "cell_type": "code",
   "execution_count": 17,
   "metadata": {},
   "outputs": [
    {
     "name": "stdout",
     "output_type": "stream",
     "text": [
      "{'emp001': {'name': 'John', 'age': 25, 'designation': 'Team Leader', 'salary': 32000}, 'emp002': {'name': 'Sam', 'age': 22, 'designation': 'Software Developer', 'salary': 28000}, 'emp003': {'name': 'Aron', 'age': 29, 'designation': 'Web Developer', 'salary': 30000}}\n",
      "25\n"
     ]
    }
   ],
   "source": [
    "company= {\n",
    "    'emp001' : {\n",
    "        'name' : 'John',\n",
    "        'age' : 25,\n",
    "        'designation' : 'Team Leader',\n",
    "        'salary' : 32000\n",
    "    },\n",
    "    'emp002' : {\n",
    "        'name' : 'Sam',\n",
    "        'age' : 22,\n",
    "        'designation' : 'Software Developer',\n",
    "        'salary' : 28000\n",
    "    },\n",
    "    'emp003' : {\n",
    "        'name' : 'Aron',\n",
    "        'age' : 29,\n",
    "        'designation' : 'Web Developer',\n",
    "        'salary' : 30000\n",
    "        }\n",
    "}\n",
    "print(company)\n",
    "print(company['emp001']['age'])"
   ]
  },
  {
   "cell_type": "code",
   "execution_count": 11,
   "metadata": {},
   "outputs": [
    {
     "name": "stdout",
     "output_type": "stream",
     "text": [
      "{'emp001': {'name': 'John', 'age': 25, 'designation': 'Team Leader', 'salary': 32000}, 'emp002': {'name': 'Sam', 'age': 22, 'designation': 'Software Developer', 'salary': 28000}, 'emp003': {'name': 'Aron', 'age': 29, 'designation': 'Web Developer', 'salary': 30000}, 'name': 'Anjali Mishra'}\n"
     ]
    }
   ],
   "source": [
    "company['name']='Anjali Mishra'\n",
    "print(company)"
   ]
  },
  {
   "cell_type": "code",
   "execution_count": 12,
   "metadata": {},
   "outputs": [
    {
     "name": "stdout",
     "output_type": "stream",
     "text": [
      "{'emp001': {'name': 'John', 'age': 25, 'designation': 'Team Leader', 'salary': 32000}, 'emp002': {'name': 'Sam', 'age': 22, 'designation': 'Software Developer', 'salary': 28000}, 'emp003': {'name': 'Aron', 'age': 29, 'designation': 'Web Developer', 'salary': 30000}, 'name': 'Anjali Mishra', 'emp004': {'name': 'Raj', 'age': 30, 'designation': 'Software Developer', 'salary': 35000}}\n"
     ]
    }
   ],
   "source": [
    "company['emp004'] = {\n",
    "    'name' : 'Raj',\n",
    "    'age' : 30,\n",
    "    'designation' : 'Software Developer',\n",
    "    'salary' : 35000\n",
    "}\n",
    "print(company)"
   ]
  },
  {
   "cell_type": "code",
   "execution_count": 13,
   "metadata": {},
   "outputs": [
    {
     "name": "stdout",
     "output_type": "stream",
     "text": [
      "dict_keys(['emp001', 'emp002', 'emp003', 'name', 'emp004'])\n",
      "dict_values([{'name': 'John', 'age': 25, 'designation': 'Team Leader', 'salary': 32000}, {'name': 'Sam', 'age': 22, 'designation': 'Software Developer', 'salary': 28000}, {'name': 'Aron', 'age': 29, 'designation': 'Web Developer', 'salary': 30000}, 'Anjali Mishra', {'name': 'Raj', 'age': 30, 'designation': 'Software Developer', 'salary': 35000}])\n"
     ]
    }
   ],
   "source": [
    "print(company.keys())\n",
    "print(company.values())"
   ]
  },
  {
   "cell_type": "code",
   "execution_count": 14,
   "metadata": {},
   "outputs": [
    {
     "name": "stdout",
     "output_type": "stream",
     "text": [
      "emp001 : {'name': 'John', 'age': 25, 'designation': 'Team Leader', 'salary': 32000}\n",
      "emp002 : {'name': 'Sam', 'age': 22, 'designation': 'Software Developer', 'salary': 28000}\n",
      "emp003 : {'name': 'Aron', 'age': 29, 'designation': 'Web Developer', 'salary': 30000}\n",
      "name : Anjali Mishra\n",
      "emp004 : {'name': 'Raj', 'age': 30, 'designation': 'Software Developer', 'salary': 35000}\n"
     ]
    }
   ],
   "source": [
    "for k,v in company.items():\n",
    "    print(f\"{k} : {v}\")"
   ]
  },
  {
   "cell_type": "code",
   "execution_count": null,
   "metadata": {},
   "outputs": [],
   "source": []
  }
 ],
 "metadata": {
  "kernelspec": {
   "display_name": "base",
   "language": "python",
   "name": "python3"
  },
  "language_info": {
   "codemirror_mode": {
    "name": "ipython",
    "version": 3
   },
   "file_extension": ".py",
   "mimetype": "text/x-python",
   "name": "python",
   "nbconvert_exporter": "python",
   "pygments_lexer": "ipython3",
   "version": "3.11.4"
  },
  "orig_nbformat": 4
 },
 "nbformat": 4,
 "nbformat_minor": 2
}
